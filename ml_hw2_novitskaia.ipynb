{
  "nbformat": 4,
  "nbformat_minor": 0,
  "metadata": {
    "colab": {
      "name": "ml_hw2_novitskaia.ipynb",
      "provenance": [],
      "collapsed_sections": []
    },
    "kernelspec": {
      "name": "python3",
      "display_name": "Python 3"
    },
    "language_info": {
      "name": "python"
    },
    "accelerator": "GPU"
  },
  "cells": [
    {
      "cell_type": "code",
      "metadata": {
        "colab": {
          "base_uri": "https://localhost:8080/"
        },
        "id": "9lH2938TMB58",
        "outputId": "d222ee24-1b9c-49b2-8f9b-55807a6f9cb6"
      },
      "source": [
        "!pip install easycolab\n",
        "import easycolab as ec\n",
        "ec.mount()"
      ],
      "execution_count": null,
      "outputs": [
        {
          "output_type": "stream",
          "text": [
            "Requirement already satisfied: easycolab in /usr/local/lib/python3.7/dist-packages (0.1b29)\n",
            "Drive already mounted at /content/gdrive; to attempt to forcibly remount, call drive.mount(\"/content/gdrive\", force_remount=True).\n",
            "Opening directory /content/gdrive/My Drive/\n",
            "Done!\n"
          ],
          "name": "stdout"
        }
      ]
    },
    {
      "cell_type": "code",
      "metadata": {
        "id": "77tofvHzMeav"
      },
      "source": [
        "import numpy as np\n",
        "from scipy.stats import spearmanr, kendalltau\n",
        "from sklearn.preprocessing import OneHotEncoder\n",
        "from scipy.sparse import hstack\n",
        "from scipy.sparse import csr_matrix\n",
        "from sklearn.metrics import accuracy_score"
      ],
      "execution_count": null,
      "outputs": []
    },
    {
      "cell_type": "code",
      "metadata": {
        "id": "9AbqhJ-BNCDn"
      },
      "source": [
        "import json, pickle\n",
        "\n",
        "tournaments = pickle.load(open('chgk/tournaments.pkl', 'rb'))\n",
        "results = pickle.load(open('chgk/results.pkl', 'rb'))\n",
        "players = pickle.load(open('chgk/players.pkl', 'rb'))"
      ],
      "execution_count": null,
      "outputs": []
    },
    {
      "cell_type": "markdown",
      "metadata": {
        "id": "xvjvQsXoNGVX"
      },
      "source": [
        "# Filtering"
      ]
    },
    {
      "cell_type": "code",
      "metadata": {
        "id": "dcKPMVFYM9Q6"
      },
      "source": [
        "tour_ids = list(tournaments.keys())"
      ],
      "execution_count": null,
      "outputs": []
    },
    {
      "cell_type": "code",
      "metadata": {
        "id": "rOcnqSHyrVBp"
      },
      "source": [
        "import operator\n",
        "\n",
        "data_2019 = {}\n",
        "for idx in tour_ids:\n",
        "    if (tournaments[idx]['dateStart'][:4] == '2019'):\n",
        "        if len(results[idx]) != 0:\n",
        "            \n",
        "            mask_len = 0\n",
        "            for i, item in enumerate(results[idx]):\n",
        "                if not ((not 'mask' in item.keys()) or (item['mask'] == None) or (len(item['teamMembers']) == 0)):\n",
        "                    if len(item['mask']) > mask_len:\n",
        "                        mask_len = len(item['mask'])\n",
        "            \n",
        "            for i, item in enumerate(results[idx]):\n",
        "                teams = {}\n",
        "                pl_ids = []\n",
        "                cnt = 0 \n",
        "                if not ((not 'mask' in item.keys()) or (item['mask'] == None) or (len(item['teamMembers']) == 0)):\n",
        "                    #if not (('X' in item['mask']) or ('?' in item['mask'])):\n",
        "                        \n",
        "                    if mask_len == len(item['mask']):\n",
        "                        for player in item['teamMembers']:\n",
        "                            if not ((not 'player' in player) or (not 'id' in player['player'])):\n",
        "                                pl_ids.append(player['player']['id'])\n",
        "                            teams[item['team']['id']] = (item['mask'], pl_ids)\n",
        "                \n",
        "                if len(teams) != 0:\n",
        "                    if not idx in data_2019:\n",
        "                        data_2019[idx] = []\n",
        "                    data_2019[idx].append(teams)"
      ],
      "execution_count": null,
      "outputs": []
    },
    {
      "cell_type": "code",
      "metadata": {
        "id": "_z9sPtaanbWG"
      },
      "source": [
        "ids_2019 = list(data_2019.keys())"
      ],
      "execution_count": null,
      "outputs": []
    },
    {
      "cell_type": "code",
      "metadata": {
        "id": "8yhVKmgd2Z_5"
      },
      "source": [
        "player_id_2019 = []\n",
        "player_mask_2019 = []\n",
        "q_id_2019 = []\n",
        "players_2019 = {}\n",
        "\n",
        "for idx in ids_2019:\n",
        "    for item in data_2019[idx]:\n",
        "        mask = list(item.values())[0][0]\n",
        "        players_ = list(item.values())[0][1]\n",
        "        for player in players_:\n",
        "            if not player in players_2019:\n",
        "                players_2019[player] = 1\n",
        "            for i, q in enumerate(mask):\n",
        "                if q != 'X' and q != '?':\n",
        "                    player_id_2019.append(player)\n",
        "                    q_id_2019.append(str(idx) + '_' + str(i))\n",
        "                    player_mask_2019.append(int(q))"
      ],
      "execution_count": null,
      "outputs": []
    },
    {
      "cell_type": "code",
      "metadata": {
        "id": "GtFzGtAsCU_s"
      },
      "source": [
        "team_2019 = []\n",
        "team_mask_2019 = []\n",
        "for idx in ids_2019:\n",
        "    for item in data_2019[idx]:\n",
        "        team = list(item.keys())[0]\n",
        "        mask = list(item.values())[0][0]\n",
        "        for i, q in enumerate(mask):\n",
        "            if q != 'X' and q != '?':\n",
        "                team_2019.append(team)\n",
        "                team_mask_2019.append(int(q))\n",
        "                #q_id_2019.append(str(idx) + '_' + str(i))\n",
        "                #player_mask_2019.append(int(q))"
      ],
      "execution_count": null,
      "outputs": []
    },
    {
      "cell_type": "code",
      "metadata": {
        "id": "yKsiZrT9FWU9"
      },
      "source": [
        "team_dict_2019 = {}\n",
        "for idx in ids_2019:\n",
        "    for item in data_2019[idx]:\n",
        "        team = list(item.keys())[0]\n",
        "        players_ = list(item.values())[0][1]\n",
        "        team_dict_2019[team] = players_"
      ],
      "execution_count": null,
      "outputs": []
    },
    {
      "cell_type": "code",
      "metadata": {
        "colab": {
          "base_uri": "https://localhost:8080/"
        },
        "id": "wfAQT3gyE4dS",
        "outputId": "27a6a6ee-01ef-42ef-83b2-b367810253a7"
      },
      "source": [
        "len(team_dict_2019.keys())"
      ],
      "execution_count": null,
      "outputs": [
        {
          "output_type": "execute_result",
          "data": {
            "text/plain": [
              "11420"
            ]
          },
          "metadata": {
            "tags": []
          },
          "execution_count": 10
        }
      ]
    },
    {
      "cell_type": "code",
      "metadata": {
        "colab": {
          "base_uri": "https://localhost:8080/"
        },
        "id": "WDPGXmNpFAZr",
        "outputId": "501befca-0772-4b85-9756-6aebeef917d9"
      },
      "source": [
        "len(team_mask_2019)"
      ],
      "execution_count": null,
      "outputs": [
        {
          "output_type": "execute_result",
          "data": {
            "text/plain": [
              "3303169"
            ]
          },
          "metadata": {
            "tags": []
          },
          "execution_count": 11
        }
      ]
    },
    {
      "cell_type": "code",
      "metadata": {
        "id": "BsLnH68a2sNI"
      },
      "source": [
        "import operator\n",
        "\n",
        "data_2020 = {}\n",
        "\n",
        "for idx in tour_ids:\n",
        "    if (tournaments[idx]['dateStart'][:4] == '2020'):\n",
        "        if len(results[idx]) != 0:\n",
        "            teams = {}\n",
        "\n",
        "            for i, item in enumerate(results[idx]):     \n",
        "                pl_ids = []\n",
        "                for player in item['teamMembers']:\n",
        "                    if not ((not 'player' in player) or (not 'id' in player['player']) or (not player['player']['id'] in players_2019.keys())):\n",
        "                        pl_ids.append(player['player']['id'])\n",
        "                    teams[item['team']['id']] = pl_ids\n",
        "                \n",
        "            if len(teams) > 1:\n",
        "                if not idx in data_2020:\n",
        "                    data_2020[idx] = []\n",
        "                data_2020[idx].append(teams)"
      ],
      "execution_count": null,
      "outputs": []
    },
    {
      "cell_type": "code",
      "metadata": {
        "id": "Pk4Jmgb2nn9y"
      },
      "source": [
        "ids_2020 = list(data_2020.keys())"
      ],
      "execution_count": null,
      "outputs": []
    },
    {
      "cell_type": "code",
      "metadata": {
        "id": "IWIZuFLRn8i2"
      },
      "source": [
        "players_2020 = {}\n",
        "\n",
        "for idx in ids_2020:\n",
        "    for item in data_2020[idx]:\n",
        "        team_keys = list(item.keys())\n",
        "        for key in team_keys:\n",
        "            players_ = item[key]\n",
        "            for player in players_:\n",
        "                if not player in players_2020:\n",
        "                    players_2020[player] = 1"
      ],
      "execution_count": null,
      "outputs": []
    },
    {
      "cell_type": "code",
      "metadata": {
        "id": "pbx48-GLzOyj"
      },
      "source": [
        "player_id_2020 = list(players_2020.keys())"
      ],
      "execution_count": null,
      "outputs": []
    },
    {
      "cell_type": "code",
      "metadata": {
        "id": "bkIaLDJhRVgD"
      },
      "source": [
        "\n",
        "player_id = np.array(player_id_2019 + player_id_2020)\n",
        "player_id = player_id.reshape(-1, 1)\n",
        "\n",
        "q_id_2019 = np.array(q_id_2019)\n",
        "q_id_2019 = q_id_2019.reshape(-1, 1)"
      ],
      "execution_count": null,
      "outputs": []
    },
    {
      "cell_type": "code",
      "metadata": {
        "id": "CaJ9JaEtgPWc"
      },
      "source": [
        "enc_1 = OneHotEncoder()\n",
        "X_train_player_id = enc_1.fit_transform(player_id)"
      ],
      "execution_count": null,
      "outputs": []
    },
    {
      "cell_type": "code",
      "metadata": {
        "id": "RTjO-Gy1gTSn"
      },
      "source": [
        "X_train_1 = X_train_player_id[:len(player_id_2019)]\n",
        "X_test_1 = X_train_player_id[len(player_id_2019):]"
      ],
      "execution_count": null,
      "outputs": []
    },
    {
      "cell_type": "code",
      "metadata": {
        "id": "lVS836dBPobF"
      },
      "source": [
        "enc_2 = OneHotEncoder()\n",
        "X_train_2 = enc_2.fit_transform(q_id_2019)"
      ],
      "execution_count": null,
      "outputs": []
    },
    {
      "cell_type": "code",
      "metadata": {
        "id": "NDFNRtb3PwfK"
      },
      "source": [
        "X_train = hstack([X_train_1, X_train_2])"
      ],
      "execution_count": null,
      "outputs": []
    },
    {
      "cell_type": "code",
      "metadata": {
        "id": "xG61sGQoRmpG"
      },
      "source": [
        "y_train = np.array(player_mask_2019)"
      ],
      "execution_count": null,
      "outputs": []
    },
    {
      "cell_type": "code",
      "metadata": {
        "colab": {
          "base_uri": "https://localhost:8080/"
        },
        "id": "iS1p_pdIo4e1",
        "outputId": "d5875585-b548-45ae-f6a9-11ee39b3a4c8"
      },
      "source": [
        "X_train.shape"
      ],
      "execution_count": null,
      "outputs": [
        {
          "output_type": "execute_result",
          "data": {
            "text/plain": [
              "(17753259, 90727)"
            ]
          },
          "metadata": {
            "tags": []
          },
          "execution_count": 22
        }
      ]
    },
    {
      "cell_type": "code",
      "metadata": {
        "colab": {
          "base_uri": "https://localhost:8080/"
        },
        "id": "8ISBmnUjo6cF",
        "outputId": "01ca2f49-9c46-46ba-bafc-7e94a65f7bc7"
      },
      "source": [
        "len(player_mask_2019)"
      ],
      "execution_count": null,
      "outputs": [
        {
          "output_type": "execute_result",
          "data": {
            "text/plain": [
              "17753259"
            ]
          },
          "metadata": {
            "tags": []
          },
          "execution_count": 23
        }
      ]
    },
    {
      "cell_type": "markdown",
      "metadata": {
        "id": "qwAPjBqJX0KU"
      },
      "source": [
        "# Baseline model"
      ]
    },
    {
      "cell_type": "code",
      "metadata": {
        "id": "-8a7vY4xYHqi"
      },
      "source": [
        "#from sklearn.linear_model import LogisticRegression\n",
        "#model = LogisticRegression(solver = 'liblinear').fit(X_train, y_train)"
      ],
      "execution_count": null,
      "outputs": []
    },
    {
      "cell_type": "code",
      "metadata": {
        "colab": {
          "base_uri": "https://localhost:8080/"
        },
        "id": "O3Tzs6S9Prox",
        "outputId": "53ef5b73-9d53-4c78-d4ca-56d4b98b663f"
      },
      "source": [
        "from sklearn.linear_model import Ridge\n",
        "y_train_ = np.clip(y_train, 1e-8, 1 - 1e-8)\n",
        "y_train_ = np.log(y_train_ / (1 - y_train_))\n",
        "model = Ridge(alpha=0.1)\n",
        "model.fit(X_train, y_train_)"
      ],
      "execution_count": null,
      "outputs": [
        {
          "output_type": "execute_result",
          "data": {
            "text/plain": [
              "Ridge(alpha=0.1, copy_X=True, fit_intercept=True, max_iter=None,\n",
              "      normalize=False, random_state=None, solver='auto', tol=0.001)"
            ]
          },
          "metadata": {
            "tags": []
          },
          "execution_count": 25
        }
      ]
    },
    {
      "cell_type": "markdown",
      "metadata": {
        "id": "s4-uRKDAamE5"
      },
      "source": [
        "# Baseline team rating"
      ]
    },
    {
      "cell_type": "code",
      "metadata": {
        "id": "zAevlWp2Kysq"
      },
      "source": [
        "p = 1/(1 + np.exp(- X_test_1 @ model.coef_[:X_test_1.shape[1]] - model.intercept_))"
      ],
      "execution_count": null,
      "outputs": []
    },
    {
      "cell_type": "code",
      "metadata": {
        "id": "dJBbKGH-jQpE"
      },
      "source": [
        "player_2020_rate = {}\n",
        "for i in range(len(player_id_2020)):\n",
        "    player_2020_rate[player_id_2020[i]] = p[i]"
      ],
      "execution_count": null,
      "outputs": []
    },
    {
      "cell_type": "code",
      "metadata": {
        "id": "7rprD8vGkEeU"
      },
      "source": [
        "player_group_id_2020 = []\n",
        "team_id_group_2020 = []\n",
        "for idx in ids_2020:\n",
        "    team_id_group_2020.append([])\n",
        "    player_group_id_2020.append([])\n",
        "    items = list(data_2020[idx][0].keys())\n",
        "    for i, item in enumerate(results[idx]):\n",
        "        if item['team']['id'] in items:\n",
        "            team_id_group_2020[-1].append(item['team']['id'])\n",
        "            player_group_id_2020[-1].append([])\n",
        "            for player in item['teamMembers']:\n",
        "                if not ((not 'player' in player) or (not 'id' in player['player']) or (not player['player']['id'] in players_2019.keys())):\n",
        "                    player_group_id_2020[-1][-1].append(player['player']['id'])"
      ],
      "execution_count": null,
      "outputs": []
    },
    {
      "cell_type": "code",
      "metadata": {
        "id": "YV9k9Up4YS4P"
      },
      "source": [
        "team_rating_2020 = []\n",
        "pos = []\n",
        "\n",
        "corr_sp = []\n",
        "corr_k = []\n",
        "for i in range(len(team_id_group_2020)):\n",
        "    team_rating_2020.append([])\n",
        "    pos.append([])\n",
        "    for j in range(len(team_id_group_2020[i])):\n",
        "        rating = 0\n",
        "        for k in range(len(player_group_id_2020[i][j])):\n",
        "            #if player_2020_rate[player_group_id_2020[i][j][k]] > rating:\n",
        "            rating += player_2020_rate[player_group_id_2020[i][j][k]]\n",
        "        team_rating_2020[i].append(rating/max(1, len(player_group_id_2020[i][j])))\n",
        "        pos[i].append(j)\n",
        "    corr_sp.append(-spearmanr(pos[i], team_rating_2020[i])[0])\n",
        "    corr_k.append(-kendalltau(pos[i], team_rating_2020[i])[0])"
      ],
      "execution_count": null,
      "outputs": []
    },
    {
      "cell_type": "markdown",
      "metadata": {
        "id": "vnFJwcDIJCaW"
      },
      "source": [
        "## Spearman"
      ]
    },
    {
      "cell_type": "code",
      "metadata": {
        "colab": {
          "base_uri": "https://localhost:8080/"
        },
        "id": "YtN5fy3Hj23w",
        "outputId": "23dfbd8d-d105-4a88-ce79-bbf1ea03d7f3"
      },
      "source": [
        "np.array(corr_sp).mean(0)"
      ],
      "execution_count": null,
      "outputs": [
        {
          "output_type": "execute_result",
          "data": {
            "text/plain": [
              "0.7390809567759947"
            ]
          },
          "metadata": {
            "tags": []
          },
          "execution_count": 30
        }
      ]
    },
    {
      "cell_type": "markdown",
      "metadata": {
        "id": "gPGwVgxJJFgW"
      },
      "source": [
        "## Kendall tau"
      ]
    },
    {
      "cell_type": "code",
      "metadata": {
        "colab": {
          "base_uri": "https://localhost:8080/"
        },
        "id": "XffCRcjXj26q",
        "outputId": "a0e0ef57-1abd-4ede-b374-6897dee5e653"
      },
      "source": [
        "np.array(corr_k).mean(0)"
      ],
      "execution_count": null,
      "outputs": [
        {
          "output_type": "execute_result",
          "data": {
            "text/plain": [
              "0.5755465835987852"
            ]
          },
          "metadata": {
            "tags": []
          },
          "execution_count": 31
        }
      ]
    },
    {
      "cell_type": "markdown",
      "metadata": {
        "id": "_T283mYQB4nM"
      },
      "source": [
        "# EM-algorithm"
      ]
    },
    {
      "cell_type": "code",
      "metadata": {
        "id": "Aaoy5MJYfTDl"
      },
      "source": [
        "def sigmoid(x, bias0=None, bias=None):\n",
        "    if (bias == None) and (bias0 == None):\n",
        "        return 1/(1 + np.exp(- x))\n",
        "    elif (bias != None) and (bias0 == None):\n",
        "        return 1/(1 + np.exp(- x - bias))\n",
        "    elif (bias == None) and (bias0 != None):\n",
        "        return 1/(1 + np.exp(- x - bias0))\n",
        "    elif (bias != None) and (bias0 != None):\n",
        "        return 1/(1 + np.exp(- x - bias + bias0))"
      ],
      "execution_count": null,
      "outputs": []
    },
    {
      "cell_type": "code",
      "metadata": {
        "id": "PFsX7uye-RQH"
      },
      "source": [
        "def e_step(X, y, theta, bias0=None, bias=None):\n",
        "    z = sigmoid(X @ theta, bias0=bias0, bias=bias)\n",
        "    z[y == 0.] = 0.\n",
        "    return z"
      ],
      "execution_count": null,
      "outputs": []
    },
    {
      "cell_type": "code",
      "metadata": {
        "id": "v4NAPW2veIry"
      },
      "source": [
        "from tqdm import tqdm\n",
        "from sklearn.linear_model import LinearRegression\n",
        "from sklearn.linear_model import Ridge\n",
        "\n",
        "def m_step(X, z):\n",
        "    z = np.clip(z, 1e-8, 1 - 1e-8)\n",
        "    inv_sig_z = np.log(z / (1 - z))\n",
        "    lr = Ridge(alpha=0.1)\n",
        "    lr.fit(X, inv_sig_z)\n",
        "    theta = lr.coef_\n",
        "    bias = lr.intercept_\n",
        "    return theta, bias"
      ],
      "execution_count": null,
      "outputs": []
    },
    {
      "cell_type": "code",
      "metadata": {
        "id": "ZGBjniPzH6A7"
      },
      "source": [
        "def calculate_score(p2):\n",
        "    player_2020_rate2 = {}\n",
        "    for i in range(len(player_id_2020)):\n",
        "        player_2020_rate2[player_id_2020[i]] = p2[i]\n",
        "    team_rating_2020 = []\n",
        "    pos = []\n",
        "    corr_sp2 = []\n",
        "    corr_k2 = []\n",
        "    for i in range(len(team_id_group_2020)):\n",
        "        team_rating_2020.append([])\n",
        "        pos.append([])\n",
        "        for j in range(len(team_id_group_2020[i])):\n",
        "            rating = 0\n",
        "            for k in range(len(player_group_id_2020[i][j])):\n",
        "                rating += player_2020_rate2[player_group_id_2020[i][j][k]]\n",
        "            team_rating_2020[i].append(rating/max(1, len(player_group_id_2020[i][j])))\n",
        "            pos[i].append(j)\n",
        "        corr_sp2.append(-spearmanr(pos[i], team_rating_2020[i])[0])\n",
        "        corr_k2.append(-kendalltau(pos[i], team_rating_2020[i])[0])\n",
        "    return np.array(corr_sp2).mean(0), np.array(corr_k2).mean(0)"
      ],
      "execution_count": null,
      "outputs": []
    },
    {
      "cell_type": "code",
      "metadata": {
        "colab": {
          "base_uri": "https://localhost:8080/"
        },
        "id": "nHIF4_p3ynA9",
        "outputId": "69736453-8600-4483-e8d9-ad4c11f3c98e"
      },
      "source": [
        "import matplotlib.pyplot as plt\n",
        "from IPython.display import clear_output\n",
        "\n",
        "theta = model.coef_\n",
        "bias0 = model.intercept_\n",
        "bias = None\n",
        "sp_ = []\n",
        "ke_ = []\n",
        "for epoch in range(5):\n",
        "    z = e_step(X_train, y_train, theta, bias0=bias0, bias=bias)\n",
        "    theta, bias = m_step(X_train, z)\n",
        "    p2 = sigmoid(X_test_1 @ theta[:X_test_1.shape[1]], bias=bias)\n",
        "    sp, ke = calculate_score(p2)\n",
        "    print('Spearman: %.8f'%sp + ' Kendall: %.8f'%ke)"
      ],
      "execution_count": null,
      "outputs": [
        {
          "output_type": "stream",
          "text": [
            "Spearman: 0.73854006 Kendall: 0.57627997\n",
            "Spearman: 0.74058913 Kendall: 0.57828338\n",
            "Spearman: 0.74033247 Kendall: 0.57837626\n",
            "Spearman: 0.74087319 Kendall: 0.57937715\n",
            "Spearman: 0.74096001 Kendall: 0.57946648\n"
          ],
          "name": "stdout"
        }
      ]
    },
    {
      "cell_type": "markdown",
      "metadata": {
        "id": "F3dI8WI-CMIA"
      },
      "source": [
        "# Competition rating"
      ]
    },
    {
      "cell_type": "markdown",
      "metadata": {
        "id": "PmrV_vGNQEMF"
      },
      "source": [
        "## Baseline"
      ]
    },
    {
      "cell_type": "code",
      "metadata": {
        "id": "rqw6dE5bET7F"
      },
      "source": [
        "q_p = 1/(1 + np.exp(- X_train_2 @ model.coef_[X_test_1.shape[1]:]))"
      ],
      "execution_count": null,
      "outputs": []
    },
    {
      "cell_type": "code",
      "metadata": {
        "id": "pnTh_EwUDK3z"
      },
      "source": [
        "tournament_questions = {}\n",
        "for i in range(len(q_id_2019)):\n",
        "    question = q_id_2019[i][0].split('_')\n",
        "    if not question[0] in tournament_questions.keys():\n",
        "        tournament_questions[question[0]] = [q_p[i]]\n",
        "    else:\n",
        "        tournament_questions[question[0]].append(q_p[i])"
      ],
      "execution_count": null,
      "outputs": []
    },
    {
      "cell_type": "code",
      "metadata": {
        "id": "0sRcSVo5Eur7"
      },
      "source": [
        "for key in tournament_questions.keys():\n",
        "    tournament_questions[key] = np.array(tournament_questions[key]).mean()"
      ],
      "execution_count": null,
      "outputs": []
    },
    {
      "cell_type": "code",
      "metadata": {
        "colab": {
          "base_uri": "https://localhost:8080/"
        },
        "id": "SNnovyV9Fu9t",
        "outputId": "9836fecc-5758-49ef-8996-b9c4c4dafdf2"
      },
      "source": [
        "tournament_questions_sorted = sorted(tournament_questions.items(), key=lambda kv: kv[1])\n",
        "print('First 10')\n",
        "for i in range(10):\n",
        "    print(tournaments[int(tournament_questions_sorted[i][0])]['name'])\n",
        "print()\n",
        "print('Last 10')\n",
        "for i in range(len(tournament_questions_sorted) - 10, len(tournament_questions_sorted)):\n",
        "    print(tournaments[int(tournament_questions_sorted[i][0])]['name'])"
      ],
      "execution_count": null,
      "outputs": [
        {
          "output_type": "stream",
          "text": [
            "First 10\n",
            "Чемпионат Санкт-Петербурга. Первая лига\n",
            "Угрюмый Ёрш\n",
            "Синхрон высшей лиги Москвы\n",
            "Чемпионат Мира. Финал. Группа С\n",
            "Записки охотника\n",
            "Чемпионат Мира. Этап 3. Группа С\n",
            "Чемпионат Мира. Этап 3. Группа В\n",
            "Первенство правого полушария\n",
            "Memento memes IV\n",
            "Ускользающая сова\n",
            "\n",
            "Last 10\n",
            "(а)Синхрон-lite. Лига старта. Эпизод V\n",
            "Школьный Синхрон-lite. Выпуск 2.5\n",
            "Открытый кубок УМЭД\n",
            "Школьный Синхрон-lite. Выпуск 3.1\n",
            "Школьный Синхрон-lite. Выпуск 3.4\n",
            "Школьный Синхрон-lite. Выпуск 3.3\n",
            "Школьная лига\n",
            "Школьная лига. II тур.\n",
            "Школьная лига. III тур.\n",
            "Школьная лига. I тур.\n"
          ],
          "name": "stdout"
        }
      ]
    },
    {
      "cell_type": "markdown",
      "metadata": {
        "id": "D8FepvDyQGzh"
      },
      "source": [
        "## EM"
      ]
    },
    {
      "cell_type": "code",
      "metadata": {
        "colab": {
          "base_uri": "https://localhost:8080/"
        },
        "id": "Imu7eXTiP2LP",
        "outputId": "79813976-edba-4f27-b8e4-258ddecbad2f"
      },
      "source": [
        "q_p = 1/(1 + np.exp(- X_train_2 @ theta[X_test_1.shape[1]:]))\n",
        "tournament_questions = {}\n",
        "for i in range(len(q_id_2019)):\n",
        "    question = q_id_2019[i][0].split('_')\n",
        "    if not question[0] in tournament_questions.keys():\n",
        "        tournament_questions[question[0]] = [q_p[i]]\n",
        "    else:\n",
        "        tournament_questions[question[0]].append(q_p[i])\n",
        "for key in tournament_questions.keys():\n",
        "    tournament_questions[key] = np.array(tournament_questions[key]).mean()\n",
        "tournament_questions_sorted = sorted(tournament_questions.items(), key=lambda kv: kv[1])\n",
        "print('First 10')\n",
        "for i in range(10):\n",
        "    print(tournaments[int(tournament_questions_sorted[i][0])]['name'])\n",
        "print()\n",
        "print('Last 10')\n",
        "for i in range(len(tournament_questions_sorted) - 10, len(tournament_questions_sorted)):\n",
        "    print(tournaments[int(tournament_questions_sorted[i][0])]['name'])"
      ],
      "execution_count": null,
      "outputs": [
        {
          "output_type": "stream",
          "text": [
            "First 10\n",
            "Чемпионат Санкт-Петербурга. Первая лига\n",
            "Синхрон высшей лиги Москвы\n",
            "Чемпионат Мира. Финал. Группа С\n",
            "Угрюмый Ёрш\n",
            "Чемпионат Мира. Этап 3. Группа С\n",
            "Записки охотника\n",
            "Первенство правого полушария\n",
            "День D\n",
            "Чемпионат Мира. Этап 3. Группа В\n",
            "Memento memes IV\n",
            "\n",
            "Last 10\n",
            "Открытый кубок УМЭД\n",
            "Кубок Караганды\n",
            "Школьный синхрон-lite. Сезон 3\n",
            "Школьный Синхрон-lite. Выпуск 3.4\n",
            "Школьный Синхрон-lite. Выпуск 3.1\n",
            "Школьный Синхрон-lite. Выпуск 3.3\n",
            "Школьная лига. II тур.\n",
            "Школьная лига\n",
            "Школьная лига. III тур.\n",
            "Школьная лига. I тур.\n"
          ],
          "name": "stdout"
        }
      ]
    },
    {
      "cell_type": "markdown",
      "metadata": {
        "id": "liGrUQGcHZXQ"
      },
      "source": [
        "# Players rating:"
      ]
    },
    {
      "cell_type": "markdown",
      "metadata": {
        "id": "ZMAd47WLJumB"
      },
      "source": [
        "## Baseline"
      ]
    },
    {
      "cell_type": "code",
      "metadata": {
        "colab": {
          "base_uri": "https://localhost:8080/"
        },
        "id": "xy63xjWxHXOL",
        "outputId": "33618785-c7ad-44cb-e7f8-e502cde189c3"
      },
      "source": [
        "player_2020_rate_sorted = sorted(player_2020_rate.items(), key=lambda kv: kv[1], reverse=True)\n",
        "for i in range(50):\n",
        "    cnt = 0\n",
        "    for j in range(len(player_id_2019)):\n",
        "        if int(player_2020_rate_sorted[i][0]) == player_id_2019[j]:\n",
        "            cnt += 1\n",
        "    print(players[int(player_2020_rate_sorted[i][0])]['name'] + ' ' + players[int(player_2020_rate_sorted[i][0])]['surname'] + ' ' + str(cnt))\n",
        "    \n"
      ],
      "execution_count": null,
      "outputs": [
        {
          "output_type": "stream",
          "text": [
            "Максим Руссо 2178\n",
            "Александра Брутер 2692\n",
            "Иван Семушин 3774\n",
            "Михаил Савченков 3215\n",
            "Максим Пилипенко 36\n",
            "Артём Сорожкин 4849\n",
            "Сергей Спешков 3737\n",
            "Станислав Мереминский 1584\n",
            "Михаил Левандовский 1457\n",
            "Ирина Прокофьева 1065\n",
            "Илья Новиков 1589\n",
            "Александр Мосягин 1112\n",
            "Михаил Царёв 501\n",
            "Игорь Мокин 1176\n",
            "Александр Либер 3787\n",
            "Дмитрий Карякин 1304\n",
            "Мария Кленницкая 1172\n",
            "Антон Саксонов 1194\n",
            "Александр Марков 2903\n",
            "Елена Александрова 48\n",
            "Алексей Гилёв 4450\n",
            "Евгений Спектор 266\n",
            "Сусанна Бровер 600\n",
            "Николай Крапиль 1652\n",
            "Наталья Горелова 2093\n",
            "Наталья Кудряшова 2626\n",
            "Юрий Выменец 3306\n",
            "Сергей Николенко 2219\n",
            "Юлия Архангельская 1614\n",
            "Михаил Новосёлов 2959\n",
            "Михаил Матвеев 1025\n",
            "Евгений Дёмин 537\n",
            "Евгений Пашковский 1436\n",
            "Владислав Порицкий 74\n",
            "Антон Чернин 1496\n",
            "Николай Коврижных 3056\n",
            "Мария Юнгер 634\n",
            "Андрей Островский 2612\n",
            "Борис Моносов 1092\n",
            "Александр Мартынов 1512\n",
            "Александр Коробейников 1401\n",
            "Иделия Айзятулова 2174\n",
            "Наиль Фарукшин 3138\n",
            "Александр Фингеров 1531\n",
            "Владислава Плохих 39\n",
            "Александр Людикайнен 295\n",
            "Артём Митрофанов 757\n",
            "Елизавета Овдеенко 2292\n",
            "Дмитрий Ожигов 3861\n",
            "Кирилл Михайлов 729\n"
          ],
          "name": "stdout"
        }
      ]
    },
    {
      "cell_type": "markdown",
      "metadata": {
        "id": "xzdN83aIJxPP"
      },
      "source": [
        "## EM"
      ]
    },
    {
      "cell_type": "code",
      "metadata": {
        "colab": {
          "base_uri": "https://localhost:8080/"
        },
        "id": "R8XycKZtJbfV",
        "outputId": "a6147321-6a03-4724-81d9-a956398f54c8"
      },
      "source": [
        "player_2020_rate2 = {}\n",
        "for i in range(len(player_id_2020)):\n",
        "    player_2020_rate2[player_id_2020[i]] = p2[i]\n",
        "player_2020_rate_sorted2 = sorted(player_2020_rate2.items(), key=lambda kv: kv[1], reverse=True)\n",
        "\n",
        "for i in range(50):\n",
        "    cnt = 0\n",
        "    for j in range(len(player_id_2019)):\n",
        "        if int(player_2020_rate_sorted2[i][0]) == player_id_2019[j]:\n",
        "            cnt += 1\n",
        "    print(players[int(player_2020_rate_sorted2[i][0])]['name'] + ' ' + players[int(player_2020_rate_sorted2[i][0])]['surname'] + ' ' + str(cnt))"
      ],
      "execution_count": null,
      "outputs": [
        {
          "output_type": "stream",
          "text": [
            "Максим Руссо 2178\n",
            "Максим Пилипенко 36\n",
            "Александра Брутер 2692\n",
            "Иван Семушин 3774\n",
            "Михаил Савченков 3215\n",
            "Артём Сорожкин 4849\n",
            "Сергей Спешков 3737\n",
            "Станислав Мереминский 1584\n",
            "Михаил Левандовский 1457\n",
            "Ирина Прокофьева 1065\n",
            "Александр Мосягин 1112\n",
            "Алексей Гилёв 4450\n",
            "Илья Новиков 1589\n",
            "Сусанна Бровер 600\n",
            "Антон Саксонов 1194\n",
            "Игорь Мокин 1176\n",
            "Владислава Плохих 39\n",
            "Александр Марков 2903\n",
            "Александр Либер 3787\n",
            "Наталья Горелова 2093\n",
            "Наталья Кудряшова 2626\n",
            "Николай Крапиль 1652\n",
            "Андрей Островский 2612\n",
            "Юлия Архангельская 1614\n",
            "Евгений Спектор 266\n",
            "Юрий Выменец 3306\n",
            "Михаил Матвеев 1025\n",
            "Дмитрий Карякин 1304\n",
            "Мария Кленницкая 1172\n",
            "Михаил Новосёлов 2959\n",
            "Михаил Царёв 501\n",
            "Евгений Пашковский 1436\n",
            "Николай Коврижных 3056\n",
            "Антон Чернин 1496\n",
            "Мария Юнгер 634\n",
            "Александр Мартынов 1512\n",
            "Борис Моносов 1092\n",
            "Светлана Иванцова 817\n",
            "Александр Коробейников 1401\n",
            "Денис Пахомов 69\n",
            "Кирилл Михайлов 729\n",
            "Александр Фингеров 1531\n",
            "Сергей Николенко 2219\n",
            "Алексей Белоглазов 862\n",
            "Наиль Фарукшин 3138\n",
            "Александр Людикайнен 295\n",
            "Елизавета Овдеенко 2292\n",
            "Евгений Дёмин 537\n",
            "Кристина Кораблина 2833\n",
            "Эльман Талыбов 1861\n"
          ],
          "name": "stdout"
        }
      ]
    },
    {
      "cell_type": "code",
      "metadata": {
        "id": "8avqg-GcMagI"
      },
      "source": [
        ""
      ],
      "execution_count": null,
      "outputs": []
    }
  ]
}